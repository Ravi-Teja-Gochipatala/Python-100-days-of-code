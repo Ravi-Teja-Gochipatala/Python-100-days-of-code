{
 "cells": [
  {
   "cell_type": "markdown",
   "id": "cddf9f91",
   "metadata": {},
   "source": [
    "## Agenda\n",
    "- Variable naming rules\n",
    "- Built-in data types: `int`, `float`, `bool`, `str`\n",
    "- Type conversion (casting)\n",
    "\n",
    "---"
   ]
  },
  {
   "cell_type": "markdown",
   "id": "9dd791ca",
   "metadata": {},
   "source": [
    "## What is a Variable?\n",
    "* A Variable is a named storage location of a memory that holds a value.\n",
    "- Example:"
   ]
  },
  {
   "cell_type": "code",
   "execution_count": 2,
   "id": "e1e3c960",
   "metadata": {},
   "outputs": [
    {
     "name": "stdout",
     "output_type": "stream",
     "text": [
      "Hello, 100Daysofcode\n"
     ]
    }
   ],
   "source": [
    "Message = \"Hello, 100Daysofcode\"\n",
    "print(Message)"
   ]
  },
  {
   "cell_type": "markdown",
   "id": "a63a3110",
   "metadata": {},
   "source": [
    "# Rules for using python variables\n",
    "- Variables names can contain only letters, numbers, and underscores.\n",
    "- They can start with a letter oor an underscore, but not with a number.\n",
    "like, we can call a variable message_1 but not 1_message.\n",
    "- spaces are not allowed in variable names, but underscores can be used to separate words in variable names like greeting_message is a variable but greeting message is not.\n",
    "- Avoid using Python keywords and function names as variable names.\n",
    "- variable names should be short but descriptive \n",
    "- special-characters like @, $, #, and etc are not allowed.\n",
    "- python is a case-sensitive language, so python treats Name, name, NAME as different.\n",
    "\n",
    "\n",
    "---"
   ]
  },
  {
   "cell_type": "markdown",
   "id": "89ab92ea",
   "metadata": {},
   "source": [
    "## Python Data-types"
   ]
  },
  {
   "cell_type": "markdown",
   "id": "e25ea73e",
   "metadata": {},
   "source": [
    "- Numeric type - int, float, complex\n"
   ]
  },
  {
   "cell_type": "markdown",
   "id": "945bcbd0",
   "metadata": {},
   "source": [
    "- int is short for integers, which stores whole numbers.\n",
    "- The size of the int is 4 bytes.\n",
    "- Example"
   ]
  },
  {
   "cell_type": "code",
   "execution_count": 2,
   "id": "561c2002",
   "metadata": {},
   "outputs": [
    {
     "name": "stdout",
     "output_type": "stream",
     "text": [
      "22\n"
     ]
    }
   ],
   "source": [
    "Age = 22\n",
    "print(Age)"
   ]
  },
  {
   "cell_type": "markdown",
   "id": "fdd8f4a5",
   "metadata": {},
   "source": [
    "---"
   ]
  },
  {
   "cell_type": "markdown",
   "id": "03f77ca0",
   "metadata": {},
   "source": [
    "- flot is short for floating-point numbers, which stores decimal values in it.\n",
    "- Example"
   ]
  },
  {
   "cell_type": "code",
   "execution_count": 3,
   "id": "c2800775",
   "metadata": {},
   "outputs": [
    {
     "name": "stdout",
     "output_type": "stream",
     "text": [
      "10.5\n"
     ]
    }
   ],
   "source": [
    "percentage = 10.5\n",
    "print(percentage)"
   ]
  },
  {
   "cell_type": "markdown",
   "id": "ebaea15f",
   "metadata": {},
   "source": [
    "---"
   ]
  },
  {
   "cell_type": "markdown",
   "id": "a1baa920",
   "metadata": {},
   "source": [
    "- complex is a special data-type that stores imaginary numbers like 3 + 5j.\n",
    "Example"
   ]
  },
  {
   "cell_type": "code",
   "execution_count": 4,
   "id": "4bb47e42",
   "metadata": {},
   "outputs": [
    {
     "name": "stdout",
     "output_type": "stream",
     "text": [
      "(3+5j)\n"
     ]
    }
   ],
   "source": [
    "i = 3 + 5j\n",
    "print(i)"
   ]
  },
  {
   "cell_type": "markdown",
   "id": "f4b5043c",
   "metadata": {},
   "source": [
    "---"
   ]
  },
  {
   "cell_type": "markdown",
   "id": "55b3670e",
   "metadata": {},
   "source": [
    "Text type :- Str\n",
    "- Str is short for string.\n",
    "- a string is a series of characters.\n",
    "- in python anything inside of double quotes \"\" is a string.\n",
    "- Example"
   ]
  },
  {
   "cell_type": "code",
   "execution_count": 5,
   "id": "dd25a776",
   "metadata": {},
   "outputs": [
    {
     "name": "stdout",
     "output_type": "stream",
     "text": [
      "Raviteja\n"
     ]
    }
   ],
   "source": [
    "name = \"Raviteja\"\n",
    "print(name)"
   ]
  },
  {
   "cell_type": "markdown",
   "id": "c7f4bf1e",
   "metadata": {},
   "source": [
    "bool(boolean Datatype)\n",
    "\n",
    "- Represents True/False values.\n",
    "\n",
    "- Internally, bool is a subclass of int (so True == 1 and False == 0).\n",
    "\n",
    "- Used mainly for conditions, logic, and control flow.\n",
    "- Example"
   ]
  },
  {
   "cell_type": "code",
   "execution_count": 6,
   "id": "c20e0b9c",
   "metadata": {},
   "outputs": [
    {
     "name": "stdout",
     "output_type": "stream",
     "text": [
      "<class 'bool'>\n",
      "2\n",
      "0\n"
     ]
    }
   ],
   "source": [
    "a = True\n",
    "b = False\n",
    "print(type(a))\n",
    "print(True + True)\n",
    "print(False * 5)"
   ]
  },
  {
   "cell_type": "markdown",
   "id": "56de3f51",
   "metadata": {},
   "source": [
    "type()\n",
    "- The type() function is used to find the type of a value or a literal."
   ]
  },
  {
   "cell_type": "markdown",
   "id": "5be06ab6",
   "metadata": {},
   "source": [
    "---"
   ]
  },
  {
   "cell_type": "markdown",
   "id": "6e5dca28",
   "metadata": {},
   "source": [
    "# Type Conversion(Casting)"
   ]
  },
  {
   "cell_type": "markdown",
   "id": "c1df0c48",
   "metadata": {},
   "source": [
    "- “Type Conversion (Casting) is the process of converting a value from one data type to another using Python’s built-in functions like int(), float(), str(), and bool().”\n",
    "\n",
    "- Example"
   ]
  },
  {
   "cell_type": "code",
   "execution_count": 1,
   "id": "94e87975",
   "metadata": {},
   "outputs": [
    {
     "name": "stdout",
     "output_type": "stream",
     "text": [
      "15 <class 'str'>\n",
      "20.0 <class 'str'>\n",
      "True <class 'str'>\n"
     ]
    }
   ],
   "source": [
    "x = \"10\"\n",
    "print(int(x) + 5, type(x))\n",
    "print(float(x) * 2, type(x))\n",
    "print(bool(x), type(x))"
   ]
  },
  {
   "cell_type": "markdown",
   "id": "3c0f6ae4",
   "metadata": {},
   "source": [
    "- Hence this is Type conversion in python."
   ]
  }
 ],
 "metadata": {
  "kernelspec": {
   "display_name": "Python 3",
   "language": "python",
   "name": "python3"
  },
  "language_info": {
   "codemirror_mode": {
    "name": "ipython",
    "version": 3
   },
   "file_extension": ".py",
   "mimetype": "text/x-python",
   "name": "python",
   "nbconvert_exporter": "python",
   "pygments_lexer": "ipython3",
   "version": "3.13.5"
  }
 },
 "nbformat": 4,
 "nbformat_minor": 5
}
