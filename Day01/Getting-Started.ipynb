{
 "cells": [
  {
   "cell_type": "markdown",
   "id": "61fa6b98",
   "metadata": {},
   "source": [
    "# Day01 Agenda\n",
    "- Introduction to Python\n",
    "- Printing (`print()`)\n",
    "- Comments (`# single line`, `''' multi-line '''`)"
   ]
  },
  {
   "cell_type": "markdown",
   "id": "8999c5d4",
   "metadata": {},
   "source": [
    "# Introduction to Python"
   ]
  },
  {
   "cell_type": "markdown",
   "id": "2d4b57c6",
   "metadata": {},
   "source": [
    "## What is Python?\n",
    "- Python is a general purpose, high-level, interpreted Programming Language created by guido van rossum in 1991.\n",
    "- Python is well know for it's Simplicity and readability.\n",
    "- Python is a platform independent language, so the code can be run on different operating systems.\n",
    "- python has very rich library and vast community for various technologies.\n",
    "\n",
    "## Applications of Python\n",
    "- python is used in webdevelopment using frameworks like Django and Flask.\n",
    "- it is used in Data-science using libraries like numpy, pandas, and matplotlib.\n",
    "- Python is mostly used in Artificial inteligence using tools like pytorch and tensorflow.\n",
    "- python is also used in Game Development using librabries like pygame.\n",
    "\n",
    "---"
   ]
  },
  {
   "cell_type": "markdown",
   "id": "3db87aab",
   "metadata": {},
   "source": [
    "## Printing (print())\n",
    "\n",
    "- Your first python program using print function.\n",
    "- The print() function is used to print something to the console."
   ]
  },
  {
   "cell_type": "code",
   "execution_count": 1,
   "id": "40a06b5a",
   "metadata": {},
   "outputs": [
    {
     "name": "stdout",
     "output_type": "stream",
     "text": [
      "Hello, 100Daysofcode\n"
     ]
    }
   ],
   "source": [
    "print(\"Hello, 100Daysofcode\")"
   ]
  },
  {
   "cell_type": "markdown",
   "id": "486a03cd",
   "metadata": {},
   "source": [
    "---"
   ]
  },
  {
   "cell_type": "markdown",
   "id": "8e24eca6",
   "metadata": {},
   "source": [
    "## Comments (`# single line`, `''' multi-line '''`)\n",
    "- Comments are very useful to document about the code within the editor(interpreter or IDLE(Integrated Development and Learning Environment) )\n",
    "- python intepreter ignores Comments during program execution. \n",
    "# Types of Comments\n",
    "i) Single line - Comments\n",
    "- It is used to comment a particular line to explain about the code.\n",
    "- like # This code prints Hello 100Daysofcode to the console\n",
    "ii) Multi-line Comments\n",
    "- It is used to comment a block of code to test a  particular block of code.\n",
    "- like \"\"\" Hello 100Daysofcode is a coding challenge\n",
    "           That develops Consistency and creadibility \"\"\"\n",
    "## The Shorcut key to Comment n number of lines at once is Ctrl + /\n",
    "\n",
    "---"
   ]
  },
  {
   "cell_type": "markdown",
   "id": "13a74bff",
   "metadata": {},
   "source": [
    "## Input form user input()\n",
    "- input() function takes input's form the user and stores.\n",
    "- The input() function takes input's in string type only but can be changed it's type later.\n",
    "- Example"
   ]
  },
  {
   "cell_type": "code",
   "execution_count": 4,
   "id": "fad6d773",
   "metadata": {},
   "outputs": [
    {
     "name": "stdout",
     "output_type": "stream",
     "text": [
      "ravi\n",
      "22\n"
     ]
    }
   ],
   "source": [
    "Name = input(\"Enter Your name:- \")\n",
    "Age = input(\"Enter your age:- \")\n",
    "print(Name)\n",
    "print(Age)"
   ]
  }
 ],
 "metadata": {
  "kernelspec": {
   "display_name": "Python 3",
   "language": "python",
   "name": "python3"
  },
  "language_info": {
   "codemirror_mode": {
    "name": "ipython",
    "version": 3
   },
   "file_extension": ".py",
   "mimetype": "text/x-python",
   "name": "python",
   "nbconvert_exporter": "python",
   "pygments_lexer": "ipython3",
   "version": "3.13.5"
  }
 },
 "nbformat": 4,
 "nbformat_minor": 5
}
