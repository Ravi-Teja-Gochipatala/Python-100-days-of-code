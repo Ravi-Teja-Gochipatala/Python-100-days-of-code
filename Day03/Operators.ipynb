{
 "cells": [
  {
   "cell_type": "markdown",
   "id": "2bc6085a",
   "metadata": {},
   "source": [
    "## Python Operators\n",
    "---"
   ]
  },
  {
   "cell_type": "markdown",
   "id": "3202a862",
   "metadata": {},
   "source": [
    "# 1. Arithmetic Operators\n",
    "- Arithmetic Operators are mathematical operators of python to perform basic maths operations on data.\n",
    "\n",
    "like Addition(+)\n",
    "\n",
    "subtraction(-)\n",
    "\n",
    "multiplication(*) \n",
    "\n",
    "Division(/) and etc.\n",
    "\n",
    "- Arithmetic Operators have one unique operator called Modulus(%) operator, which returns the remaining value after dividing one number by another.\n",
    "\n",
    "- Examples\n",
    "\n",
    "- Note:- from now on, this course will be user interactive using input() and taking inputs from the user."
   ]
  },
  {
   "cell_type": "code",
   "execution_count": 8,
   "id": "a0b7fdb3",
   "metadata": {},
   "outputs": [
    {
     "name": "stdout",
     "output_type": "stream",
     "text": [
      "<class 'int'> <class 'int'> <class 'int'>\n",
      "30\n"
     ]
    }
   ],
   "source": [
    "#Addition Example\n",
    "#This code will calculate the sum of two numbers\n",
    "\n",
    "a = int(input(\"Enter a value:- \"))\n",
    "b = int(input(\"Enter b value:- \"))\n",
    "c = (a + b)\n",
    "print(type(a), type(b), type(c))\n",
    "print(c)\n"
   ]
  },
  {
   "cell_type": "code",
   "execution_count": 10,
   "id": "200dc76d",
   "metadata": {},
   "outputs": [
    {
     "name": "stdout",
     "output_type": "stream",
     "text": [
      "<class 'int'> <class 'int'> <class 'int'>\n",
      "10\n"
     ]
    }
   ],
   "source": [
    "#Subtraction Example\n",
    "#This code will calculate the subtraction of two numbers\n",
    "\n",
    "a = int(input(\"Enter a value:- \"))\n",
    "\n",
    "b = int(input(\"Enter b value:- \"))\n",
    "\n",
    "c = a - b \n",
    "\n",
    "print(type(a), type(b), type(c))\n",
    "\n",
    "print(c)"
   ]
  },
  {
   "cell_type": "code",
   "execution_count": 11,
   "id": "1c07db82",
   "metadata": {},
   "outputs": [
    {
     "name": "stdout",
     "output_type": "stream",
     "text": [
      "40\n"
     ]
    }
   ],
   "source": [
    "#Multiplication Example\n",
    "#This code will Calculate the product of two nuumbers\n",
    "\n",
    "a = int(input(\"Enter a value:- \"))\n",
    "b = int(input(\"Enter b value:- \"))\n",
    "c = a * b \n",
    "print(c)"
   ]
  },
  {
   "cell_type": "code",
   "execution_count": 12,
   "id": "bb990b50",
   "metadata": {},
   "outputs": [
    {
     "name": "stdout",
     "output_type": "stream",
     "text": [
      "0.6666666666666666\n"
     ]
    }
   ],
   "source": [
    "#Division Example\n",
    "#This code will Devide given two numbers.\n",
    "\n",
    "a = int(input(\"Enter a value:- \"))\n",
    "b = int(input(\"Enter b value:- \"))\n",
    "c = a / b \n",
    "print(c)"
   ]
  },
  {
   "cell_type": "code",
   "execution_count": 15,
   "id": "03e63f55",
   "metadata": {},
   "outputs": [
    {
     "name": "stdout",
     "output_type": "stream",
     "text": [
      "1\n"
     ]
    }
   ],
   "source": [
    "#Modulus Operator Example\n",
    "#This code will return the reminder.\n",
    "\n",
    "a = int(input(\"Enter a value:- \"))\n",
    "b = int(input(\"Enter b value:- \"))\n",
    "c = a % b\n",
    "print(c)"
   ]
  },
  {
   "cell_type": "markdown",
   "id": "342cd377",
   "metadata": {},
   "source": [
    "- Hence these are the examples of Arithmatic Operators of python \n",
    "--- "
   ]
  },
  {
   "cell_type": "markdown",
   "id": "9428e228",
   "metadata": {},
   "source": [
    "# 2. Comparison Operators \n",
    "\n",
    "- Comparison Operators are the Operators used to Comapre two values or expressions.\n",
    "\n",
    "- They are widely used in if-statements, functions, loops, to make decisions.\n",
    "\n",
    "- == equal # This is a equal to operator that checks wheater any one condition is True.\n",
    "\n",
    "- != not equal # This is a not equal to Operator that checks weather the \n",
    "\n",
    "- (>) greater than\n",
    "\n",
    "- (<) less than\n",
    "\n",
    "- (>=) greater or equal\n",
    "\n",
    "- (<=) less or equal"
   ]
  },
  {
   "cell_type": "code",
   "execution_count": 7,
   "id": "b1ba8ce0",
   "metadata": {},
   "outputs": [
    {
     "name": "stdout",
     "output_type": "stream",
     "text": [
      "True\n",
      "True\n"
     ]
    }
   ],
   "source": [
    "# Example of == equal to Operator\n",
    "a = True\n",
    "b = False\n",
    "c = a == True\n",
    "d = b == False\n",
    "print(c)\n",
    "print(d)"
   ]
  },
  {
   "cell_type": "code",
   "execution_count": 10,
   "id": "4add6a1c",
   "metadata": {},
   "outputs": [
    {
     "name": "stdout",
     "output_type": "stream",
     "text": [
      "True\n",
      "True\n"
     ]
    }
   ],
   "source": [
    "#Example of not equal to (!=) Operator\n",
    "a = True\n",
    "b = False\n",
    "c = a != False\n",
    "d = b != True\n",
    "print(c)\n",
    "print(d)"
   ]
  },
  {
   "cell_type": "code",
   "execution_count": null,
   "id": "14cde03f",
   "metadata": {},
   "outputs": [
    {
     "name": "stdout",
     "output_type": "stream",
     "text": [
      "True\n",
      "True\n"
     ]
    }
   ],
   "source": [
    "#Example of greater than\n",
    "\n",
    "A = int(input(\"Enter a value:- \"))\n",
    "B = int(input(\"Enter b value:- \"))\n",
    "c = A > 5\n",
    "d = B > 20\n",
    "print(c)\n",
    "print(d)"
   ]
  },
  {
   "cell_type": "code",
   "execution_count": null,
   "id": "3fa77f08",
   "metadata": {},
   "outputs": [
    {
     "name": "stdout",
     "output_type": "stream",
     "text": [
      "True\n",
      "True\n"
     ]
    }
   ],
   "source": [
    "#Example of less than\n",
    "\n",
    "a = int(input(\"Enter a value:- \"))\n",
    "b = int(input(\"Enter b value:- \"))\n",
    "c = a < 10\n",
    "d = b < 15\n",
    "print(c)\n",
    "print(d)\n"
   ]
  },
  {
   "cell_type": "code",
   "execution_count": 17,
   "id": "f616c5ef",
   "metadata": {},
   "outputs": [
    {
     "name": "stdout",
     "output_type": "stream",
     "text": [
      "True\n",
      "True\n"
     ]
    }
   ],
   "source": [
    "#Example of greater or equal to\n",
    "\n",
    "a = int(input(\"Enter a value:- \"))\n",
    "b = int(input(\"Enter b value:- \"))\n",
    "c = a >= 10\n",
    "d = b >= 20\n",
    "print(c)\n",
    "print(d)"
   ]
  },
  {
   "cell_type": "code",
   "execution_count": 18,
   "id": "0f7275a3",
   "metadata": {},
   "outputs": [
    {
     "name": "stdout",
     "output_type": "stream",
     "text": [
      "True\n",
      "True\n"
     ]
    }
   ],
   "source": [
    "#Example fo less or equal\n",
    "\n",
    "a = int(input(\"Enter a value:- \"))\n",
    "b = int(input(\"Enter b value:- \"))\n",
    "c = a <= 10\n",
    "d = b <= 11\n",
    "print(c)\n",
    "print(d)\n"
   ]
  },
  {
   "cell_type": "markdown",
   "id": "9948ed87",
   "metadata": {},
   "source": [
    "---"
   ]
  },
  {
   "cell_type": "markdown",
   "id": "26601be9",
   "metadata": {},
   "source": [
    "# 3. Logical operators (and, or, not) \n",
    "- These Operators Combine Conditional Statements and return a boolean(True/False)"
   ]
  },
  {
   "cell_type": "markdown",
   "id": "1511c283",
   "metadata": {},
   "source": [
    "# and Operator\n",
    "- The \"and\" Operator returns True if both conditons are True."
   ]
  },
  {
   "cell_type": "code",
   "execution_count": 20,
   "id": "32193e1b",
   "metadata": {},
   "outputs": [
    {
     "name": "stdout",
     "output_type": "stream",
     "text": [
      "2\n",
      "10\n",
      "True\n"
     ]
    }
   ],
   "source": [
    "#Example of \"and\" Operator\n",
    "a = int(input(\"Enter a value:- \"))\n",
    "b = int(input(\"Enter b value:- \"))\n",
    "c = a <= 5 and b >= 5\n",
    "print(a)\n",
    "print(b)\n",
    "print(c)\n"
   ]
  },
  {
   "cell_type": "markdown",
   "id": "898688fc",
   "metadata": {},
   "source": [
    "# or Operator\n",
    "- The \"or\" Operator returns True if any one condition is True."
   ]
  },
  {
   "cell_type": "code",
   "execution_count": 21,
   "id": "db31c279",
   "metadata": {},
   "outputs": [
    {
     "name": "stdout",
     "output_type": "stream",
     "text": [
      "True\n"
     ]
    }
   ],
   "source": [
    "#Example of \"or\" Operator\n",
    "a = int(input(\"Enter a value:- \"))\n",
    "b = int(input(\"Enter b value:- \"))\n",
    "c = a <=5 or b >=5\n",
    "print(c)"
   ]
  },
  {
   "cell_type": "markdown",
   "id": "ea1d22a5",
   "metadata": {},
   "source": [
    "# not Operator\n",
    "- The \"not\" Operator reverses the result from True to False and False to True."
   ]
  },
  {
   "cell_type": "code",
   "execution_count": null,
   "id": "09fcfd9e",
   "metadata": {},
   "outputs": [
    {
     "name": "stdout",
     "output_type": "stream",
     "text": [
      "False\n"
     ]
    }
   ],
   "source": [
    "#Example of \"not\" Operator\n",
    "a = int(input(\"Enter a value:- \"))\n",
    "c =  not a >= 5\n",
    "print(c)"
   ]
  },
  {
   "cell_type": "markdown",
   "id": "f6b17248",
   "metadata": {},
   "source": [
    "---"
   ]
  },
  {
   "cell_type": "markdown",
   "id": "53637e57",
   "metadata": {},
   "source": [
    "# 4. Membership Operators\n",
    "- There are mainly Two Membership Operators are there.\n",
    "- i) in Operator :- Basically the 'in' Operator returns True if the Value exists in the sequence for example \"a\" in \"apple\".\n",
    "- ii) not in Operato :- The \"not in\" Operator does the samething like 'in' Operator but quite in a opposite way, like returns True if the value does not exist in the sequence for example \"3 not in [1,2,4]\n",
    "\n"
   ]
  },
  {
   "cell_type": "code",
   "execution_count": 2,
   "id": "de3498dc",
   "metadata": {},
   "outputs": [
    {
     "name": "stdout",
     "output_type": "stream",
     "text": [
      "True\n"
     ]
    }
   ],
   "source": [
    "#Example of in Operator\n",
    "\n",
    "a = \"Ravi\"\n",
    "b = \"R\" in a \n",
    "print(b)"
   ]
  },
  {
   "cell_type": "code",
   "execution_count": 8,
   "id": "ab8d4793",
   "metadata": {},
   "outputs": [
    {
     "name": "stdout",
     "output_type": "stream",
     "text": [
      "True\n",
      "<class 'list'>\n"
     ]
    }
   ],
   "source": [
    "#Example of not in Operator\n",
    "\n",
    "a = [1,2,3]\n",
    "b = 5 not in a \n",
    "print(b)\n",
    "print(type(a))"
   ]
  },
  {
   "cell_type": "markdown",
   "id": "fc6a805a",
   "metadata": {},
   "source": [
    "---"
   ]
  },
  {
   "cell_type": "markdown",
   "id": "c363a24d",
   "metadata": {},
   "source": [
    "# 5. Identity Operators\n",
    "- There two Identity Operators are there \n",
    "- i) 'is' Operator:- the 'is' Operator Returns True if both variables point to the same object.\n",
    "- ii) 'is not' Operator:- the 'is not' Operator Returns True if they point to different objects."
   ]
  },
  {
   "cell_type": "code",
   "execution_count": 9,
   "id": "c203c3b2",
   "metadata": {},
   "outputs": [
    {
     "name": "stdout",
     "output_type": "stream",
     "text": [
      "True\n",
      "False\n",
      "True\n"
     ]
    }
   ],
   "source": [
    "#Example of 'is' Operator \n",
    "\n",
    "a = [1, 2, 3]\n",
    "b = [1, 2, 3]\n",
    "c = a\n",
    "\n",
    "print(a == b)   # True  (values are same)\n",
    "print(a is b)   # False (different memory locations)\n",
    "print(a is c)   # True  (same object reference)\n"
   ]
  }
 ],
 "metadata": {
  "kernelspec": {
   "display_name": "Python 3",
   "language": "python",
   "name": "python3"
  },
  "language_info": {
   "codemirror_mode": {
    "name": "ipython",
    "version": 3
   },
   "file_extension": ".py",
   "mimetype": "text/x-python",
   "name": "python",
   "nbconvert_exporter": "python",
   "pygments_lexer": "ipython3",
   "version": "3.13.5"
  }
 },
 "nbformat": 4,
 "nbformat_minor": 5
}
